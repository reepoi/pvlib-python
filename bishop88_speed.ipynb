{
 "cells": [
  {
   "cell_type": "code",
   "execution_count": 250,
   "id": "ff54e1a2-4835-4146-87e9-cd22db3a6d1f",
   "metadata": {},
   "outputs": [
    {
     "name": "stdout",
     "output_type": "stream",
     "text": [
      "The autoreload extension is already loaded. To reload it, use:\n",
      "  %reload_ext autoreload\n"
     ]
    }
   ],
   "source": [
    "%load_ext autoreload\n",
    "import numpy as np\n",
    "from pvlib import singlediode, pvsystem\n",
    "from pvlib.tests.test_singlediode import get_pvsyst_fs_495"
   ]
  },
  {
   "cell_type": "code",
   "execution_count": 251,
   "id": "2c54798b-9144-4e12-b878-f55242f59504",
   "metadata": {},
   "outputs": [],
   "source": [
    "%autoreload 2"
   ]
  },
  {
   "cell_type": "code",
   "execution_count": 252,
   "id": "810e99bf-8f62-430c-a564-7bd7836d0b81",
   "metadata": {},
   "outputs": [],
   "source": [
    "pvsyst_fs_495 = get_pvsyst_fs_495()\n",
    "# reference conditions\n",
    "poa, temp_cell, expected, tol = (\n",
    "    pvsyst_fs_495['irrad_ref'],\n",
    "    pvsyst_fs_495['temp_ref'],\n",
    "    {\n",
    "        'pmp': (pvsyst_fs_495['I_mp_ref'] *\n",
    "                pvsyst_fs_495['V_mp_ref']),\n",
    "        'isc': pvsyst_fs_495['I_sc_ref'],\n",
    "        'voc': pvsyst_fs_495['V_oc_ref']\n",
    "    },\n",
    "    (5e-4, 0.04)\n",
    ")"
   ]
  },
  {
   "cell_type": "code",
   "execution_count": 288,
   "id": "6ef96ee2-04af-46f5-a834-37828c0be7cd",
   "metadata": {},
   "outputs": [],
   "source": [
    "# first evaluate PVSyst model with thin-film recombination loss current\n",
    "# at reference conditions\n",
    "x = pvsystem.calcparams_pvsyst(\n",
    "    effective_irradiance=poa, temp_cell=temp_cell,\n",
    "    alpha_sc=pvsyst_fs_495['alpha_sc'],\n",
    "    gamma_ref=pvsyst_fs_495['gamma_ref'],\n",
    "    mu_gamma=pvsyst_fs_495['mu_gamma'], I_L_ref=pvsyst_fs_495['I_L_ref'],\n",
    "    I_o_ref=pvsyst_fs_495['I_o_ref'], R_sh_ref=pvsyst_fs_495['R_sh_ref'],\n",
    "    R_sh_0=pvsyst_fs_495['R_sh_0'], R_sh_exp=pvsyst_fs_495['R_sh_exp'],\n",
    "    R_s=pvsyst_fs_495['R_s'],\n",
    "    cells_in_series=pvsyst_fs_495['cells_in_series'],\n",
    "    EgRef=pvsyst_fs_495['EgRef']\n",
    ")\n",
    "il_pvsyst, io_pvsyst, rs_pvsyst, rsh_pvsyst, nnsvt_pvsyst = x\n",
    "voc_est_pvsyst = singlediode.estimate_voc(photocurrent=il_pvsyst,\n",
    "                              saturation_current=io_pvsyst,\n",
    "                              nNsVth=nnsvt_pvsyst)\n",
    "vd_pvsyst = np.linspace(0, voc_est_pvsyst, 1000)\n",
    "bishop88_args = dict(\n",
    "    diode_voltage=vd_pvsyst, photocurrent=il_pvsyst,\n",
    "    saturation_current=io_pvsyst, resistance_series=rs_pvsyst,\n",
    "    resistance_shunt=rsh_pvsyst, nNsVth=nnsvt_pvsyst,\n",
    "    d2mutau=pvsyst_fs_495['d2mutau'],\n",
    "    NsVbi=singlediode.VOLTAGE_BUILTIN*pvsyst_fs_495['cells_in_series']\n",
    ")"
   ]
  },
  {
   "cell_type": "code",
   "execution_count": 254,
   "id": "da79a53c-9081-4647-b1d9-f73f7f5758e4",
   "metadata": {},
   "outputs": [],
   "source": [
    "def assert_allclose(res, res_no_if, res_where):\n",
    "    for a, b, c in zip(res, res_no_if, res_where):\n",
    "        assert np.allclose(a, b)\n",
    "        assert np.allclose(a, c)"
   ]
  },
  {
   "cell_type": "code",
   "execution_count": 255,
   "id": "670afb24-5f4f-4d75-994b-75cbee5122b7",
   "metadata": {},
   "outputs": [],
   "source": [
    "def benchmark(breakdown_factor, bishop88_args, gradients=False, is_array=False):\n",
    "    if not is_array:\n",
    "        print('bishop88')\n",
    "        %timeit res = singlediode.bishop88(**bishop88_args, breakdown_factor=breakdown_factor, gradients=gradients)\n",
    "    print('bishop88_no_if')\n",
    "    %timeit res_no_if = singlediode.bishop88_no_if(**bishop88_args, breakdown_factor=breakdown_factor, gradients=gradients)\n",
    "    print('bishop88_where')\n",
    "    %timeit res_where = singlediode.bishop88_where(**bishop88_args, breakdown_factor=breakdown_factor, gradients=gradients)\n",
    "    assert_allclose(res, res_no_if, res_where)"
   ]
  },
  {
   "cell_type": "markdown",
   "id": "3be0cd7c-eeff-443e-a967-cf40bc10d2bf",
   "metadata": {},
   "source": [
    "# breakdown_factor is scalar"
   ]
  },
  {
   "cell_type": "code",
   "execution_count": null,
   "id": "d228d796-3d64-420e-b619-83dfc47dcac6",
   "metadata": {},
   "outputs": [],
   "source": [
    "num_curves = 20"
   ]
  },
  {
   "cell_type": "code",
   "execution_count": 292,
   "id": "02cb7590-0c80-4e58-a516-729822a742c6",
   "metadata": {},
   "outputs": [],
   "source": [
    "def get_bishop88_scalar_args(num_curves):\n",
    "    \"\"\"\n",
    "    Duplicate the one bishop88_args curve into many curves.\n",
    "    \"\"\"\n",
    "    diode_voltage = np.tile(bishop88_args['diode_voltage'][:, None], num_curves)\n",
    "    args = {k: np.tile(v, num_curves) for k, v in bishop88_args.items()}\n",
    "    args['diode_voltage'] = diode_voltage\n",
    "    return args"
   ]
  },
  {
   "cell_type": "markdown",
   "id": "b3a25b4b-621d-43b8-b6c2-8eb97597daf6",
   "metadata": {},
   "source": [
    "### breakdown_factor is 0."
   ]
  },
  {
   "cell_type": "code",
   "execution_count": 294,
   "id": "e3a835da-12cb-4c66-876c-f5e7d8dbf6d4",
   "metadata": {},
   "outputs": [
    {
     "name": "stdout",
     "output_type": "stream",
     "text": [
      "bishop88\n",
      "548 µs ± 2.2 µs per loop (mean ± std. dev. of 7 runs, 1,000 loops each)\n",
      "bishop88_no_if\n",
      "994 µs ± 35.4 µs per loop (mean ± std. dev. of 7 runs, 1,000 loops each)\n",
      "bishop88_where\n",
      "631 µs ± 3.38 µs per loop (mean ± std. dev. of 7 runs, 1,000 loops each)\n"
     ]
    }
   ],
   "source": [
    "benchmark(0., get_bishop88_scalar_args(num_curves))"
   ]
  },
  {
   "cell_type": "markdown",
   "id": "6e38a9bc-4a2c-47a0-ba88-cb566bb84224",
   "metadata": {},
   "source": [
    "### breakdown_factor is .1"
   ]
  },
  {
   "cell_type": "code",
   "execution_count": 296,
   "id": "9d907306-555c-4f4b-a6fc-eeca25602cb2",
   "metadata": {},
   "outputs": [
    {
     "name": "stdout",
     "output_type": "stream",
     "text": [
      "bishop88\n",
      "995 µs ± 27.5 µs per loop (mean ± std. dev. of 7 runs, 1,000 loops each)\n",
      "bishop88_no_if\n",
      "976 µs ± 2.74 µs per loop (mean ± std. dev. of 7 runs, 1,000 loops each)\n",
      "bishop88_where\n",
      "987 µs ± 2.01 µs per loop (mean ± std. dev. of 7 runs, 1,000 loops each)\n"
     ]
    }
   ],
   "source": [
    "benchmark(.1, get_bishop88_scalar_args(num_curves))"
   ]
  },
  {
   "cell_type": "markdown",
   "id": "5b60ffe4-fdc1-4441-9064-7dbdc0e77fe9",
   "metadata": {},
   "source": [
    "## Gradients"
   ]
  },
  {
   "cell_type": "markdown",
   "id": "04db121f-4318-408d-a2cc-d62af2c5191d",
   "metadata": {},
   "source": [
    "### breakdown_factor is 0."
   ]
  },
  {
   "cell_type": "code",
   "execution_count": 297,
   "id": "a0f5ef24-72bc-4f27-88a0-36eb90a880db",
   "metadata": {},
   "outputs": [
    {
     "name": "stdout",
     "output_type": "stream",
     "text": [
      "bishop88\n",
      "1.07 ms ± 4.75 µs per loop (mean ± std. dev. of 7 runs, 1,000 loops each)\n",
      "bishop88_no_if\n",
      "2.4 ms ± 17.7 µs per loop (mean ± std. dev. of 7 runs, 100 loops each)\n",
      "bishop88_where\n",
      "1.39 ms ± 42.3 µs per loop (mean ± std. dev. of 7 runs, 1,000 loops each)\n"
     ]
    }
   ],
   "source": [
    "benchmark(0., get_bishop88_scalar_args(num_curves), gradients=True)"
   ]
  },
  {
   "cell_type": "markdown",
   "id": "3765e4ed-1eee-429e-a2b0-aa5376d974ea",
   "metadata": {},
   "source": [
    "### breakdown_factor is .1"
   ]
  },
  {
   "cell_type": "code",
   "execution_count": 298,
   "id": "fd185bf6-8506-448e-8698-020ef42dbe9a",
   "metadata": {},
   "outputs": [
    {
     "name": "stdout",
     "output_type": "stream",
     "text": [
      "bishop88\n",
      "2.49 ms ± 41 µs per loop (mean ± std. dev. of 7 runs, 100 loops each)\n",
      "bishop88_no_if\n",
      "2.55 ms ± 81.7 µs per loop (mean ± std. dev. of 7 runs, 100 loops each)\n",
      "bishop88_where\n",
      "2.58 ms ± 68.8 µs per loop (mean ± std. dev. of 7 runs, 100 loops each)\n"
     ]
    }
   ],
   "source": [
    "benchmark(.1, get_bishop88_scalar_args(num_curves), gradients=True)"
   ]
  },
  {
   "cell_type": "markdown",
   "id": "d6667135-d0d1-4a18-971c-61ece5debffd",
   "metadata": {},
   "source": [
    "# breakdown_factor is array"
   ]
  },
  {
   "cell_type": "code",
   "execution_count": 268,
   "id": "81c3060f-5cb9-4121-90f8-4056d4b6481e",
   "metadata": {},
   "outputs": [],
   "source": [
    "num_curves = 20"
   ]
  },
  {
   "cell_type": "code",
   "execution_count": 269,
   "id": "ff752294-a616-41df-8a66-41f757d0e9e0",
   "metadata": {},
   "outputs": [],
   "source": [
    "def get_bishop88_array_args(breakdown_factor, num_curves):\n",
    "    \"\"\"\n",
    "    Duplicate the one bishop88_args curve into many curves.\n",
    "    One curve for each breakdown_factor value.\n",
    "    \"\"\"\n",
    "    keys, values = zip(*bishop88_args.items())\n",
    "    breakdown_factor = np.tile(breakdown_factor, num_curves // 2)[:, None]\n",
    "    breakdown_factor, *values = np.broadcast_arrays(breakdown_factor, *values)\n",
    "    args = {k: v for k, v in zip(keys, values)}\n",
    "    return breakdown_factor, args"
   ]
  },
  {
   "cell_type": "markdown",
   "id": "0ad7ca5a-e956-4ccd-96de-14cce1716a69",
   "metadata": {},
   "source": [
    "### breakdown_factor is all zeros"
   ]
  },
  {
   "cell_type": "code",
   "execution_count": 270,
   "id": "7e613f83-3e63-4179-a371-f0a8482e8fb6",
   "metadata": {},
   "outputs": [
    {
     "name": "stdout",
     "output_type": "stream",
     "text": [
      "bishop88_no_if\n",
      "1.07 ms ± 55.5 µs per loop (mean ± std. dev. of 7 runs, 1,000 loops each)\n",
      "bishop88_where\n",
      "696 µs ± 21.4 µs per loop (mean ± std. dev. of 7 runs, 1,000 loops each)\n"
     ]
    }
   ],
   "source": [
    "breakdown_factor, bishop88_array_args = get_bishop88_array_args(np.array([0., 0.]), num_curves)\n",
    "benchmark(breakdown_factor, bishop88_array_args, is_array=True)"
   ]
  },
  {
   "cell_type": "markdown",
   "id": "24c89363-6c5d-4581-9cc8-f0d5e2f33f92",
   "metadata": {},
   "source": [
    "### breakdown_factor is [0, .1]"
   ]
  },
  {
   "cell_type": "code",
   "execution_count": 271,
   "id": "6c865d67-d8fa-4a90-8611-a6c116fdf789",
   "metadata": {},
   "outputs": [
    {
     "name": "stdout",
     "output_type": "stream",
     "text": [
      "bishop88_no_if\n",
      "1.06 ms ± 27.2 µs per loop (mean ± std. dev. of 7 runs, 1,000 loops each)\n",
      "bishop88_where\n",
      "916 µs ± 5.53 µs per loop (mean ± std. dev. of 7 runs, 1,000 loops each)\n"
     ]
    }
   ],
   "source": [
    "breakdown_factor, bishop88_array_args = get_bishop88_array_args(np.array([0., .1]), num_curves)\n",
    "benchmark(breakdown_factor, bishop88_array_args, is_array=True)"
   ]
  },
  {
   "cell_type": "markdown",
   "id": "87ffd64d-902f-4d43-ac96-5ca8657bbbd3",
   "metadata": {},
   "source": [
    "### breakdown_factor is [.1, .2]"
   ]
  },
  {
   "cell_type": "code",
   "execution_count": 272,
   "id": "59113824-8083-43d1-a426-a44d1a0971c4",
   "metadata": {},
   "outputs": [
    {
     "name": "stdout",
     "output_type": "stream",
     "text": [
      "bishop88_no_if\n",
      "1.06 ms ± 26.8 µs per loop (mean ± std. dev. of 7 runs, 1,000 loops each)\n",
      "bishop88_where\n",
      "1.14 ms ± 76.8 µs per loop (mean ± std. dev. of 7 runs, 1,000 loops each)\n"
     ]
    }
   ],
   "source": [
    "breakdown_factor, bishop88_array_args = get_bishop88_array_args(np.array([.1, .2]), num_curves)\n",
    "benchmark(breakdown_factor, bishop88_array_args, is_array=True)"
   ]
  },
  {
   "cell_type": "markdown",
   "id": "63d161e3-95e5-41e2-933a-5fd08da4c009",
   "metadata": {},
   "source": [
    "## Gradients"
   ]
  },
  {
   "cell_type": "markdown",
   "id": "6fcae9f0-25ad-4bb1-8cba-f8ea4fefd91f",
   "metadata": {},
   "source": [
    "### breakdown_factor is all zeros"
   ]
  },
  {
   "cell_type": "code",
   "execution_count": 273,
   "id": "620a39ed-1a42-46cb-a7dc-726aedeea1ff",
   "metadata": {},
   "outputs": [
    {
     "name": "stdout",
     "output_type": "stream",
     "text": [
      "bishop88_no_if\n",
      "2.61 ms ± 61 µs per loop (mean ± std. dev. of 7 runs, 100 loops each)\n",
      "bishop88_where\n",
      "1.43 ms ± 26.5 µs per loop (mean ± std. dev. of 7 runs, 1,000 loops each)\n"
     ]
    }
   ],
   "source": [
    "breakdown_factor, bishop88_array_args = get_bishop88_array_args(np.array([0., 0.]), num_curves)\n",
    "benchmark(breakdown_factor, bishop88_array_args, is_array=True, gradients=True)"
   ]
  },
  {
   "cell_type": "markdown",
   "id": "fc8db31e-b134-42ff-bfc6-02e4f4d0b09f",
   "metadata": {},
   "source": [
    "### breakdown_factor is [0, .1]"
   ]
  },
  {
   "cell_type": "code",
   "execution_count": 274,
   "id": "26af4afd-f4a6-4c11-99ae-911563e0a19a",
   "metadata": {},
   "outputs": [
    {
     "name": "stdout",
     "output_type": "stream",
     "text": [
      "bishop88_no_if\n",
      "2.46 ms ± 65.3 µs per loop (mean ± std. dev. of 7 runs, 100 loops each)\n",
      "bishop88_where\n",
      "2.13 ms ± 183 µs per loop (mean ± std. dev. of 7 runs, 100 loops each)\n"
     ]
    }
   ],
   "source": [
    "breakdown_factor, bishop88_array_args = get_bishop88_array_args(np.array([0., .1]), num_curves)\n",
    "benchmark(breakdown_factor, bishop88_array_args, is_array=True, gradients=True)"
   ]
  },
  {
   "cell_type": "markdown",
   "id": "71f449b1-2102-4f3e-b794-bfbe71189035",
   "metadata": {},
   "source": [
    "### breakdown_factor is [.1, .2]"
   ]
  },
  {
   "cell_type": "code",
   "execution_count": 275,
   "id": "827d22ba-55c1-4cba-b7c6-4c41b5ab42d2",
   "metadata": {},
   "outputs": [
    {
     "name": "stdout",
     "output_type": "stream",
     "text": [
      "bishop88_no_if\n",
      "2.51 ms ± 55.4 µs per loop (mean ± std. dev. of 7 runs, 100 loops each)\n",
      "bishop88_where\n",
      "2.78 ms ± 162 µs per loop (mean ± std. dev. of 7 runs, 100 loops each)\n"
     ]
    }
   ],
   "source": [
    "breakdown_factor, bishop88_array_args = get_bishop88_array_args(np.array([.1, .2]), num_curves)\n",
    "benchmark(breakdown_factor, bishop88_array_args, is_array=True, gradients=True)"
   ]
  }
 ],
 "metadata": {
  "kernelspec": {
   "display_name": "Python 3 (ipykernel)",
   "language": "python",
   "name": "python3"
  },
  "language_info": {
   "codemirror_mode": {
    "name": "ipython",
    "version": 3
   },
   "file_extension": ".py",
   "mimetype": "text/x-python",
   "name": "python",
   "nbconvert_exporter": "python",
   "pygments_lexer": "ipython3",
   "version": "3.11.3"
  }
 },
 "nbformat": 4,
 "nbformat_minor": 5
}
